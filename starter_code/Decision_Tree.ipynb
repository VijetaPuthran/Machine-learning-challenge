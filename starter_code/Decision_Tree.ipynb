{
 "cells": [
  {
   "cell_type": "code",
   "execution_count": 1,
   "metadata": {},
   "outputs": [
    {
     "name": "stdout",
     "output_type": "stream",
     "text": [
      "Requirement already up-to-date: sklearn in c:\\users\\vijet\\anaconda3\\envs\\advpythonnew\\lib\\site-packages (0.0)\n",
      "Requirement already satisfied, skipping upgrade: scikit-learn in c:\\users\\vijet\\anaconda3\\envs\\advpythonnew\\lib\\site-packages (from sklearn) (0.23.2)\n",
      "Requirement already satisfied, skipping upgrade: scipy>=0.19.1 in c:\\users\\vijet\\anaconda3\\envs\\advpythonnew\\lib\\site-packages (from scikit-learn->sklearn) (1.5.2)\n",
      "Requirement already satisfied, skipping upgrade: joblib>=0.11 in c:\\users\\vijet\\anaconda3\\envs\\advpythonnew\\lib\\site-packages (from scikit-learn->sklearn) (0.17.0)\n",
      "Requirement already satisfied, skipping upgrade: numpy>=1.13.3 in c:\\users\\vijet\\anaconda3\\envs\\advpythonnew\\lib\\site-packages (from scikit-learn->sklearn) (1.19.2)\n",
      "Requirement already satisfied, skipping upgrade: threadpoolctl>=2.0.0 in c:\\users\\vijet\\anaconda3\\envs\\advpythonnew\\lib\\site-packages (from scikit-learn->sklearn) (2.1.0)\n"
     ]
    }
   ],
   "source": [
    "# Update sklearn to prevent version mismatches\n",
    "!pip install sklearn --upgrade"
   ]
  },
  {
   "cell_type": "code",
   "execution_count": 2,
   "metadata": {},
   "outputs": [
    {
     "name": "stdout",
     "output_type": "stream",
     "text": [
      "Requirement already satisfied: joblib in c:\\users\\vijet\\anaconda3\\envs\\advpythonnew\\lib\\site-packages (0.17.0)\n"
     ]
    }
   ],
   "source": [
    "# install joblib. This will be used to save your model. \n",
    "# Restart your kernel after installing \n",
    "!pip install joblib"
   ]
  },
  {
   "cell_type": "code",
   "execution_count": 3,
   "metadata": {},
   "outputs": [],
   "source": [
    "import pandas as pd"
   ]
  },
  {
   "cell_type": "markdown",
   "metadata": {},
   "source": [
    "# Read the CSV and Perform Basic Data Cleaning"
   ]
  },
  {
   "cell_type": "code",
   "execution_count": 4,
   "metadata": {},
   "outputs": [
    {
     "data": {
      "text/html": [
       "<div>\n",
       "<style scoped>\n",
       "    .dataframe tbody tr th:only-of-type {\n",
       "        vertical-align: middle;\n",
       "    }\n",
       "\n",
       "    .dataframe tbody tr th {\n",
       "        vertical-align: top;\n",
       "    }\n",
       "\n",
       "    .dataframe thead th {\n",
       "        text-align: right;\n",
       "    }\n",
       "</style>\n",
       "<table border=\"1\" class=\"dataframe\">\n",
       "  <thead>\n",
       "    <tr style=\"text-align: right;\">\n",
       "      <th></th>\n",
       "      <th>koi_disposition</th>\n",
       "      <th>koi_fpflag_nt</th>\n",
       "      <th>koi_fpflag_ss</th>\n",
       "      <th>koi_fpflag_co</th>\n",
       "      <th>koi_fpflag_ec</th>\n",
       "      <th>koi_period</th>\n",
       "      <th>koi_period_err1</th>\n",
       "      <th>koi_period_err2</th>\n",
       "      <th>koi_time0bk</th>\n",
       "      <th>koi_time0bk_err1</th>\n",
       "      <th>...</th>\n",
       "      <th>koi_steff_err2</th>\n",
       "      <th>koi_slogg</th>\n",
       "      <th>koi_slogg_err1</th>\n",
       "      <th>koi_slogg_err2</th>\n",
       "      <th>koi_srad</th>\n",
       "      <th>koi_srad_err1</th>\n",
       "      <th>koi_srad_err2</th>\n",
       "      <th>ra</th>\n",
       "      <th>dec</th>\n",
       "      <th>koi_kepmag</th>\n",
       "    </tr>\n",
       "  </thead>\n",
       "  <tbody>\n",
       "    <tr>\n",
       "      <th>0</th>\n",
       "      <td>CONFIRMED</td>\n",
       "      <td>0</td>\n",
       "      <td>0</td>\n",
       "      <td>0</td>\n",
       "      <td>0</td>\n",
       "      <td>54.418383</td>\n",
       "      <td>2.479000e-04</td>\n",
       "      <td>-2.479000e-04</td>\n",
       "      <td>162.513840</td>\n",
       "      <td>0.003520</td>\n",
       "      <td>...</td>\n",
       "      <td>-81</td>\n",
       "      <td>4.467</td>\n",
       "      <td>0.064</td>\n",
       "      <td>-0.096</td>\n",
       "      <td>0.927</td>\n",
       "      <td>0.105</td>\n",
       "      <td>-0.061</td>\n",
       "      <td>291.93423</td>\n",
       "      <td>48.141651</td>\n",
       "      <td>15.347</td>\n",
       "    </tr>\n",
       "    <tr>\n",
       "      <th>1</th>\n",
       "      <td>FALSE POSITIVE</td>\n",
       "      <td>0</td>\n",
       "      <td>1</td>\n",
       "      <td>0</td>\n",
       "      <td>0</td>\n",
       "      <td>19.899140</td>\n",
       "      <td>1.490000e-05</td>\n",
       "      <td>-1.490000e-05</td>\n",
       "      <td>175.850252</td>\n",
       "      <td>0.000581</td>\n",
       "      <td>...</td>\n",
       "      <td>-176</td>\n",
       "      <td>4.544</td>\n",
       "      <td>0.044</td>\n",
       "      <td>-0.176</td>\n",
       "      <td>0.868</td>\n",
       "      <td>0.233</td>\n",
       "      <td>-0.078</td>\n",
       "      <td>297.00482</td>\n",
       "      <td>48.134129</td>\n",
       "      <td>15.436</td>\n",
       "    </tr>\n",
       "    <tr>\n",
       "      <th>2</th>\n",
       "      <td>FALSE POSITIVE</td>\n",
       "      <td>0</td>\n",
       "      <td>1</td>\n",
       "      <td>0</td>\n",
       "      <td>0</td>\n",
       "      <td>1.736952</td>\n",
       "      <td>2.630000e-07</td>\n",
       "      <td>-2.630000e-07</td>\n",
       "      <td>170.307565</td>\n",
       "      <td>0.000115</td>\n",
       "      <td>...</td>\n",
       "      <td>-174</td>\n",
       "      <td>4.564</td>\n",
       "      <td>0.053</td>\n",
       "      <td>-0.168</td>\n",
       "      <td>0.791</td>\n",
       "      <td>0.201</td>\n",
       "      <td>-0.067</td>\n",
       "      <td>285.53461</td>\n",
       "      <td>48.285210</td>\n",
       "      <td>15.597</td>\n",
       "    </tr>\n",
       "    <tr>\n",
       "      <th>3</th>\n",
       "      <td>CONFIRMED</td>\n",
       "      <td>0</td>\n",
       "      <td>0</td>\n",
       "      <td>0</td>\n",
       "      <td>0</td>\n",
       "      <td>2.525592</td>\n",
       "      <td>3.760000e-06</td>\n",
       "      <td>-3.760000e-06</td>\n",
       "      <td>171.595550</td>\n",
       "      <td>0.001130</td>\n",
       "      <td>...</td>\n",
       "      <td>-211</td>\n",
       "      <td>4.438</td>\n",
       "      <td>0.070</td>\n",
       "      <td>-0.210</td>\n",
       "      <td>1.046</td>\n",
       "      <td>0.334</td>\n",
       "      <td>-0.133</td>\n",
       "      <td>288.75488</td>\n",
       "      <td>48.226200</td>\n",
       "      <td>15.509</td>\n",
       "    </tr>\n",
       "    <tr>\n",
       "      <th>4</th>\n",
       "      <td>CONFIRMED</td>\n",
       "      <td>0</td>\n",
       "      <td>0</td>\n",
       "      <td>0</td>\n",
       "      <td>0</td>\n",
       "      <td>4.134435</td>\n",
       "      <td>1.050000e-05</td>\n",
       "      <td>-1.050000e-05</td>\n",
       "      <td>172.979370</td>\n",
       "      <td>0.001900</td>\n",
       "      <td>...</td>\n",
       "      <td>-232</td>\n",
       "      <td>4.486</td>\n",
       "      <td>0.054</td>\n",
       "      <td>-0.229</td>\n",
       "      <td>0.972</td>\n",
       "      <td>0.315</td>\n",
       "      <td>-0.105</td>\n",
       "      <td>296.28613</td>\n",
       "      <td>48.224670</td>\n",
       "      <td>15.714</td>\n",
       "    </tr>\n",
       "  </tbody>\n",
       "</table>\n",
       "<p>5 rows × 41 columns</p>\n",
       "</div>"
      ],
      "text/plain": [
       "  koi_disposition  koi_fpflag_nt  koi_fpflag_ss  koi_fpflag_co  koi_fpflag_ec  \\\n",
       "0       CONFIRMED              0              0              0              0   \n",
       "1  FALSE POSITIVE              0              1              0              0   \n",
       "2  FALSE POSITIVE              0              1              0              0   \n",
       "3       CONFIRMED              0              0              0              0   \n",
       "4       CONFIRMED              0              0              0              0   \n",
       "\n",
       "   koi_period  koi_period_err1  koi_period_err2  koi_time0bk  \\\n",
       "0   54.418383     2.479000e-04    -2.479000e-04   162.513840   \n",
       "1   19.899140     1.490000e-05    -1.490000e-05   175.850252   \n",
       "2    1.736952     2.630000e-07    -2.630000e-07   170.307565   \n",
       "3    2.525592     3.760000e-06    -3.760000e-06   171.595550   \n",
       "4    4.134435     1.050000e-05    -1.050000e-05   172.979370   \n",
       "\n",
       "   koi_time0bk_err1  ...  koi_steff_err2  koi_slogg  koi_slogg_err1  \\\n",
       "0          0.003520  ...             -81      4.467           0.064   \n",
       "1          0.000581  ...            -176      4.544           0.044   \n",
       "2          0.000115  ...            -174      4.564           0.053   \n",
       "3          0.001130  ...            -211      4.438           0.070   \n",
       "4          0.001900  ...            -232      4.486           0.054   \n",
       "\n",
       "   koi_slogg_err2  koi_srad  koi_srad_err1  koi_srad_err2         ra  \\\n",
       "0          -0.096     0.927          0.105         -0.061  291.93423   \n",
       "1          -0.176     0.868          0.233         -0.078  297.00482   \n",
       "2          -0.168     0.791          0.201         -0.067  285.53461   \n",
       "3          -0.210     1.046          0.334         -0.133  288.75488   \n",
       "4          -0.229     0.972          0.315         -0.105  296.28613   \n",
       "\n",
       "         dec  koi_kepmag  \n",
       "0  48.141651      15.347  \n",
       "1  48.134129      15.436  \n",
       "2  48.285210      15.597  \n",
       "3  48.226200      15.509  \n",
       "4  48.224670      15.714  \n",
       "\n",
       "[5 rows x 41 columns]"
      ]
     },
     "execution_count": 4,
     "metadata": {},
     "output_type": "execute_result"
    }
   ],
   "source": [
    "df = pd.read_csv(\"exoplanet_data.csv\")\n",
    "# Drop the null columns where all values are null\n",
    "df = df.dropna(axis='columns', how='all')\n",
    "# Drop the null rows\n",
    "df = df.dropna()\n",
    "df.head()"
   ]
  },
  {
   "cell_type": "markdown",
   "metadata": {},
   "source": [
    "# Select your features (columns)"
   ]
  },
  {
   "cell_type": "code",
   "execution_count": 5,
   "metadata": {},
   "outputs": [
    {
     "data": {
      "text/plain": [
       "Index(['koi_disposition', 'koi_fpflag_nt', 'koi_fpflag_ss', 'koi_fpflag_co',\n",
       "       'koi_fpflag_ec', 'koi_period', 'koi_period_err1', 'koi_period_err2',\n",
       "       'koi_time0bk', 'koi_time0bk_err1', 'koi_time0bk_err2', 'koi_impact',\n",
       "       'koi_impact_err1', 'koi_impact_err2', 'koi_duration',\n",
       "       'koi_duration_err1', 'koi_duration_err2', 'koi_depth', 'koi_depth_err1',\n",
       "       'koi_depth_err2', 'koi_prad', 'koi_prad_err1', 'koi_prad_err2',\n",
       "       'koi_teq', 'koi_insol', 'koi_insol_err1', 'koi_insol_err2',\n",
       "       'koi_model_snr', 'koi_tce_plnt_num', 'koi_steff', 'koi_steff_err1',\n",
       "       'koi_steff_err2', 'koi_slogg', 'koi_slogg_err1', 'koi_slogg_err2',\n",
       "       'koi_srad', 'koi_srad_err1', 'koi_srad_err2', 'ra', 'dec',\n",
       "       'koi_kepmag'],\n",
       "      dtype='object')"
      ]
     },
     "execution_count": 5,
     "metadata": {},
     "output_type": "execute_result"
    }
   ],
   "source": [
    "df.columns"
   ]
  },
  {
   "cell_type": "code",
   "execution_count": 6,
   "metadata": {},
   "outputs": [],
   "source": [
    "# Set features. This will also be used as your x values.\n",
    "selected_features = df[['koi_duration', 'koi_depth', 'koi_prad', 'koi_teq', 'koi_slogg']]\n",
    "X=selected_features"
   ]
  },
  {
   "cell_type": "markdown",
   "metadata": {},
   "source": [
    "# Create a Train Test Split\n",
    "\n",
    "Use `koi_disposition` for the y values"
   ]
  },
  {
   "cell_type": "code",
   "execution_count": 7,
   "metadata": {},
   "outputs": [],
   "source": [
    "y = df['koi_disposition']"
   ]
  },
  {
   "cell_type": "code",
   "execution_count": 8,
   "metadata": {},
   "outputs": [],
   "source": [
    "# Split the data into training and testing\n",
    "from sklearn.model_selection import train_test_split\n",
    "\n",
    "X_train, X_test, y_train, y_test = train_test_split(X, y, random_state=42)"
   ]
  },
  {
   "cell_type": "code",
   "execution_count": 9,
   "metadata": {},
   "outputs": [
    {
     "data": {
      "text/html": [
       "<div>\n",
       "<style scoped>\n",
       "    .dataframe tbody tr th:only-of-type {\n",
       "        vertical-align: middle;\n",
       "    }\n",
       "\n",
       "    .dataframe tbody tr th {\n",
       "        vertical-align: top;\n",
       "    }\n",
       "\n",
       "    .dataframe thead th {\n",
       "        text-align: right;\n",
       "    }\n",
       "</style>\n",
       "<table border=\"1\" class=\"dataframe\">\n",
       "  <thead>\n",
       "    <tr style=\"text-align: right;\">\n",
       "      <th></th>\n",
       "      <th>koi_duration</th>\n",
       "      <th>koi_depth</th>\n",
       "      <th>koi_prad</th>\n",
       "      <th>koi_teq</th>\n",
       "      <th>koi_slogg</th>\n",
       "    </tr>\n",
       "  </thead>\n",
       "  <tbody>\n",
       "    <tr>\n",
       "      <th>6122</th>\n",
       "      <td>3.61600</td>\n",
       "      <td>123.1</td>\n",
       "      <td>1.24</td>\n",
       "      <td>1017</td>\n",
       "      <td>4.327</td>\n",
       "    </tr>\n",
       "    <tr>\n",
       "      <th>6370</th>\n",
       "      <td>2.30900</td>\n",
       "      <td>114.6</td>\n",
       "      <td>0.86</td>\n",
       "      <td>1867</td>\n",
       "      <td>4.578</td>\n",
       "    </tr>\n",
       "    <tr>\n",
       "      <th>2879</th>\n",
       "      <td>79.89690</td>\n",
       "      <td>641.1</td>\n",
       "      <td>3.21</td>\n",
       "      <td>989</td>\n",
       "      <td>4.481</td>\n",
       "    </tr>\n",
       "    <tr>\n",
       "      <th>107</th>\n",
       "      <td>2.63120</td>\n",
       "      <td>875.4</td>\n",
       "      <td>2.25</td>\n",
       "      <td>696</td>\n",
       "      <td>4.536</td>\n",
       "    </tr>\n",
       "    <tr>\n",
       "      <th>29</th>\n",
       "      <td>2.22739</td>\n",
       "      <td>9802.0</td>\n",
       "      <td>12.21</td>\n",
       "      <td>1103</td>\n",
       "      <td>4.359</td>\n",
       "    </tr>\n",
       "  </tbody>\n",
       "</table>\n",
       "</div>"
      ],
      "text/plain": [
       "      koi_duration  koi_depth  koi_prad  koi_teq  koi_slogg\n",
       "6122       3.61600      123.1      1.24     1017      4.327\n",
       "6370       2.30900      114.6      0.86     1867      4.578\n",
       "2879      79.89690      641.1      3.21      989      4.481\n",
       "107        2.63120      875.4      2.25      696      4.536\n",
       "29         2.22739     9802.0     12.21     1103      4.359"
      ]
     },
     "execution_count": 9,
     "metadata": {},
     "output_type": "execute_result"
    }
   ],
   "source": [
    "X_train.head()"
   ]
  },
  {
   "cell_type": "markdown",
   "metadata": {},
   "source": [
    "# Pre-processing\n",
    "\n",
    "Scale the data using the MinMaxScaler and perform some feature selection"
   ]
  },
  {
   "cell_type": "code",
   "execution_count": 10,
   "metadata": {},
   "outputs": [],
   "source": [
    "from sklearn.preprocessing import MinMaxScaler\n",
    "# Scale your data\n",
    "X_scaler = MinMaxScaler().fit(X_train)\n",
    "X_train_scaled = X_scaler.transform(X_train)\n",
    "X_test_scaled = X_scaler.transform(X_test)"
   ]
  },
  {
   "cell_type": "markdown",
   "metadata": {},
   "source": [
    "# Train the Model\n",
    "\n"
   ]
  },
  {
   "cell_type": "code",
   "execution_count": 11,
   "metadata": {},
   "outputs": [
    {
     "name": "stdout",
     "output_type": "stream",
     "text": [
      "Training Data Score: 1.0\n",
      "Testing Data Score: 0.6916475972540046\n"
     ]
    }
   ],
   "source": [
    "from sklearn.ensemble import RandomForestClassifier\n",
    "rf = RandomForestClassifier(n_estimators=200)\n",
    "rf = rf.fit(X_train_scaled, y_train)\n",
    "rf_score = rf.score(X_train_scaled, y_train)\n",
    "base_accuracy = rf.score(X_test_scaled, y_test)\n",
    "\n",
    "\n",
    "# model_1 = LogisticRegression()\n",
    "# model_1.fit(X_train_scaled, y_train)\n",
    "\n",
    "# model_1_training_score = model_1.score(X_train_scaled, y_train)\n",
    "# base_accuracy = model_1.score(X_test_scaled, y_test)\n",
    "\n",
    "print(f\"Training Data Score: {rf.score(X_train_scaled, y_train)}\")\n",
    "print(f\"Testing Data Score: {rf.score(X_test_scaled, y_test)}\")"
   ]
  },
  {
   "cell_type": "markdown",
   "metadata": {},
   "source": [
    "# Hyperparameter Tuning\n",
    "\n",
    "Use `GridSearchCV` to tune the model's parameters"
   ]
  },
  {
   "cell_type": "code",
   "execution_count": 49,
   "metadata": {},
   "outputs": [],
   "source": [
    "# Create the GridSearchCV model\n",
    "from sklearn.model_selection import GridSearchCV\n",
    "from sklearn.svm import SVC \n",
    "import numpy as np\n",
    "param_grid = {\n",
    "    'n_estimators': [200, 600],\n",
    "    'max_features': ['auto', 'sqrt', 'log2'],\n",
    "    'max_depth': [14, 15, 16, 17, 18, None]\n",
    "}\n",
    "grid = GridSearchCV(rf, param_grid, cv=5, verbose=3)"
   ]
  },
  {
   "cell_type": "code",
   "execution_count": 50,
   "metadata": {},
   "outputs": [
    {
     "data": {
      "text/plain": [
       "dict_keys(['bootstrap', 'ccp_alpha', 'class_weight', 'criterion', 'max_depth', 'max_features', 'max_leaf_nodes', 'max_samples', 'min_impurity_decrease', 'min_impurity_split', 'min_samples_leaf', 'min_samples_split', 'min_weight_fraction_leaf', 'n_estimators', 'n_jobs', 'oob_score', 'random_state', 'verbose', 'warm_start'])"
      ]
     },
     "execution_count": 50,
     "metadata": {},
     "output_type": "execute_result"
    }
   ],
   "source": [
    "rf.get_params().keys()"
   ]
  },
  {
   "cell_type": "code",
   "execution_count": 51,
   "metadata": {},
   "outputs": [
    {
     "name": "stdout",
     "output_type": "stream",
     "text": [
      "Fitting 5 folds for each of 36 candidates, totalling 180 fits\n",
      "[CV] max_depth=14, max_features=auto, n_estimators=200 ...............\n"
     ]
    },
    {
     "name": "stderr",
     "output_type": "stream",
     "text": [
      "[Parallel(n_jobs=1)]: Using backend SequentialBackend with 1 concurrent workers.\n"
     ]
    },
    {
     "name": "stdout",
     "output_type": "stream",
     "text": [
      "[CV]  max_depth=14, max_features=auto, n_estimators=200, score=0.711, total=   1.3s\n",
      "[CV] max_depth=14, max_features=auto, n_estimators=200 ...............\n"
     ]
    },
    {
     "name": "stderr",
     "output_type": "stream",
     "text": [
      "[Parallel(n_jobs=1)]: Done   1 out of   1 | elapsed:    1.2s remaining:    0.0s\n"
     ]
    },
    {
     "name": "stdout",
     "output_type": "stream",
     "text": [
      "[CV]  max_depth=14, max_features=auto, n_estimators=200, score=0.708, total=   1.4s\n",
      "[CV] max_depth=14, max_features=auto, n_estimators=200 ...............\n"
     ]
    },
    {
     "name": "stderr",
     "output_type": "stream",
     "text": [
      "[Parallel(n_jobs=1)]: Done   2 out of   2 | elapsed:    2.6s remaining:    0.0s\n"
     ]
    },
    {
     "name": "stdout",
     "output_type": "stream",
     "text": [
      "[CV]  max_depth=14, max_features=auto, n_estimators=200, score=0.704, total=   1.4s\n",
      "[CV] max_depth=14, max_features=auto, n_estimators=200 ...............\n",
      "[CV]  max_depth=14, max_features=auto, n_estimators=200, score=0.665, total=   1.4s\n",
      "[CV] max_depth=14, max_features=auto, n_estimators=200 ...............\n",
      "[CV]  max_depth=14, max_features=auto, n_estimators=200, score=0.711, total=   1.4s\n",
      "[CV] max_depth=14, max_features=auto, n_estimators=600 ...............\n",
      "[CV]  max_depth=14, max_features=auto, n_estimators=600, score=0.711, total=   4.8s\n",
      "[CV] max_depth=14, max_features=auto, n_estimators=600 ...............\n",
      "[CV]  max_depth=14, max_features=auto, n_estimators=600, score=0.713, total=   5.2s\n",
      "[CV] max_depth=14, max_features=auto, n_estimators=600 ...............\n",
      "[CV]  max_depth=14, max_features=auto, n_estimators=600, score=0.705, total=   5.1s\n",
      "[CV] max_depth=14, max_features=auto, n_estimators=600 ...............\n",
      "[CV]  max_depth=14, max_features=auto, n_estimators=600, score=0.664, total=   5.2s\n",
      "[CV] max_depth=14, max_features=auto, n_estimators=600 ...............\n",
      "[CV]  max_depth=14, max_features=auto, n_estimators=600, score=0.719, total=   5.2s\n",
      "[CV] max_depth=14, max_features=sqrt, n_estimators=200 ...............\n",
      "[CV]  max_depth=14, max_features=sqrt, n_estimators=200, score=0.706, total=   1.4s\n",
      "[CV] max_depth=14, max_features=sqrt, n_estimators=200 ...............\n",
      "[CV]  max_depth=14, max_features=sqrt, n_estimators=200, score=0.711, total=   2.5s\n",
      "[CV] max_depth=14, max_features=sqrt, n_estimators=200 ...............\n",
      "[CV]  max_depth=14, max_features=sqrt, n_estimators=200, score=0.705, total=   1.4s\n",
      "[CV] max_depth=14, max_features=sqrt, n_estimators=200 ...............\n",
      "[CV]  max_depth=14, max_features=sqrt, n_estimators=200, score=0.661, total=   1.4s\n",
      "[CV] max_depth=14, max_features=sqrt, n_estimators=200 ...............\n",
      "[CV]  max_depth=14, max_features=sqrt, n_estimators=200, score=0.714, total=   2.5s\n",
      "[CV] max_depth=14, max_features=sqrt, n_estimators=600 ...............\n",
      "[CV]  max_depth=14, max_features=sqrt, n_estimators=600, score=0.715, total=   5.2s\n",
      "[CV] max_depth=14, max_features=sqrt, n_estimators=600 ...............\n",
      "[CV]  max_depth=14, max_features=sqrt, n_estimators=600, score=0.711, total=   4.1s\n",
      "[CV] max_depth=14, max_features=sqrt, n_estimators=600 ...............\n",
      "[CV]  max_depth=14, max_features=sqrt, n_estimators=600, score=0.703, total=   6.0s\n",
      "[CV] max_depth=14, max_features=sqrt, n_estimators=600 ...............\n",
      "[CV]  max_depth=14, max_features=sqrt, n_estimators=600, score=0.665, total=   5.4s\n",
      "[CV] max_depth=14, max_features=sqrt, n_estimators=600 ...............\n",
      "[CV]  max_depth=14, max_features=sqrt, n_estimators=600, score=0.717, total=   5.3s\n",
      "[CV] max_depth=14, max_features=log2, n_estimators=200 ...............\n",
      "[CV]  max_depth=14, max_features=log2, n_estimators=200, score=0.707, total=   1.3s\n",
      "[CV] max_depth=14, max_features=log2, n_estimators=200 ...............\n",
      "[CV]  max_depth=14, max_features=log2, n_estimators=200, score=0.704, total=   1.4s\n",
      "[CV] max_depth=14, max_features=log2, n_estimators=200 ...............\n",
      "[CV]  max_depth=14, max_features=log2, n_estimators=200, score=0.708, total=   2.5s\n",
      "[CV] max_depth=14, max_features=log2, n_estimators=200 ...............\n",
      "[CV]  max_depth=14, max_features=log2, n_estimators=200, score=0.672, total=   1.3s\n",
      "[CV] max_depth=14, max_features=log2, n_estimators=200 ...............\n",
      "[CV]  max_depth=14, max_features=log2, n_estimators=200, score=0.714, total=   2.5s\n",
      "[CV] max_depth=14, max_features=log2, n_estimators=600 ...............\n",
      "[CV]  max_depth=14, max_features=log2, n_estimators=600, score=0.716, total=   5.2s\n",
      "[CV] max_depth=14, max_features=log2, n_estimators=600 ...............\n",
      "[CV]  max_depth=14, max_features=log2, n_estimators=600, score=0.713, total=   5.2s\n",
      "[CV] max_depth=14, max_features=log2, n_estimators=600 ...............\n",
      "[CV]  max_depth=14, max_features=log2, n_estimators=600, score=0.704, total=   5.2s\n",
      "[CV] max_depth=14, max_features=log2, n_estimators=600 ...............\n",
      "[CV]  max_depth=14, max_features=log2, n_estimators=600, score=0.668, total=   5.7s\n",
      "[CV] max_depth=14, max_features=log2, n_estimators=600 ...............\n",
      "[CV]  max_depth=14, max_features=log2, n_estimators=600, score=0.715, total=   5.3s\n",
      "[CV] max_depth=15, max_features=auto, n_estimators=200 ...............\n",
      "[CV]  max_depth=15, max_features=auto, n_estimators=200, score=0.712, total=   1.4s\n",
      "[CV] max_depth=15, max_features=auto, n_estimators=200 ...............\n",
      "[CV]  max_depth=15, max_features=auto, n_estimators=200, score=0.708, total=   2.5s\n",
      "[CV] max_depth=15, max_features=auto, n_estimators=200 ...............\n",
      "[CV]  max_depth=15, max_features=auto, n_estimators=200, score=0.698, total=   1.4s\n",
      "[CV] max_depth=15, max_features=auto, n_estimators=200 ...............\n",
      "[CV]  max_depth=15, max_features=auto, n_estimators=200, score=0.669, total=   2.5s\n",
      "[CV] max_depth=15, max_features=auto, n_estimators=200 ...............\n",
      "[CV]  max_depth=15, max_features=auto, n_estimators=200, score=0.719, total=   1.4s\n",
      "[CV] max_depth=15, max_features=auto, n_estimators=600 ...............\n",
      "[CV]  max_depth=15, max_features=auto, n_estimators=600, score=0.712, total=   5.3s\n",
      "[CV] max_depth=15, max_features=auto, n_estimators=600 ...............\n",
      "[CV]  max_depth=15, max_features=auto, n_estimators=600, score=0.709, total=   5.3s\n",
      "[CV] max_depth=15, max_features=auto, n_estimators=600 ...............\n",
      "[CV]  max_depth=15, max_features=auto, n_estimators=600, score=0.706, total=   5.6s\n",
      "[CV] max_depth=15, max_features=auto, n_estimators=600 ...............\n",
      "[CV]  max_depth=15, max_features=auto, n_estimators=600, score=0.660, total=   6.0s\n",
      "[CV] max_depth=15, max_features=auto, n_estimators=600 ...............\n",
      "[CV]  max_depth=15, max_features=auto, n_estimators=600, score=0.720, total=   5.3s\n",
      "[CV] max_depth=15, max_features=sqrt, n_estimators=200 ...............\n",
      "[CV]  max_depth=15, max_features=sqrt, n_estimators=200, score=0.708, total=   1.7s\n",
      "[CV] max_depth=15, max_features=sqrt, n_estimators=200 ...............\n",
      "[CV]  max_depth=15, max_features=sqrt, n_estimators=200, score=0.710, total=   2.2s\n",
      "[CV] max_depth=15, max_features=sqrt, n_estimators=200 ...............\n",
      "[CV]  max_depth=15, max_features=sqrt, n_estimators=200, score=0.703, total=   1.6s\n",
      "[CV] max_depth=15, max_features=sqrt, n_estimators=200 ...............\n",
      "[CV]  max_depth=15, max_features=sqrt, n_estimators=200, score=0.665, total=   2.3s\n",
      "[CV] max_depth=15, max_features=sqrt, n_estimators=200 ...............\n",
      "[CV]  max_depth=15, max_features=sqrt, n_estimators=200, score=0.718, total=   1.4s\n",
      "[CV] max_depth=15, max_features=sqrt, n_estimators=600 ...............\n",
      "[CV]  max_depth=15, max_features=sqrt, n_estimators=600, score=0.718, total=   5.7s\n",
      "[CV] max_depth=15, max_features=sqrt, n_estimators=600 ...............\n",
      "[CV]  max_depth=15, max_features=sqrt, n_estimators=600, score=0.711, total=   6.1s\n",
      "[CV] max_depth=15, max_features=sqrt, n_estimators=600 ...............\n",
      "[CV]  max_depth=15, max_features=sqrt, n_estimators=600, score=0.705, total=   5.2s\n",
      "[CV] max_depth=15, max_features=sqrt, n_estimators=600 ...............\n",
      "[CV]  max_depth=15, max_features=sqrt, n_estimators=600, score=0.668, total=   5.3s\n",
      "[CV] max_depth=15, max_features=sqrt, n_estimators=600 ...............\n",
      "[CV]  max_depth=15, max_features=sqrt, n_estimators=600, score=0.718, total=   5.3s\n",
      "[CV] max_depth=15, max_features=log2, n_estimators=200 ...............\n",
      "[CV]  max_depth=15, max_features=log2, n_estimators=200, score=0.710, total=   2.5s\n",
      "[CV] max_depth=15, max_features=log2, n_estimators=200 ...............\n",
      "[CV]  max_depth=15, max_features=log2, n_estimators=200, score=0.710, total=   1.4s\n",
      "[CV] max_depth=15, max_features=log2, n_estimators=200 ...............\n",
      "[CV]  max_depth=15, max_features=log2, n_estimators=200, score=0.704, total=   2.5s\n",
      "[CV] max_depth=15, max_features=log2, n_estimators=200 ...............\n",
      "[CV]  max_depth=15, max_features=log2, n_estimators=200, score=0.669, total=   1.4s\n",
      "[CV] max_depth=15, max_features=log2, n_estimators=200 ...............\n",
      "[CV]  max_depth=15, max_features=log2, n_estimators=200, score=0.714, total=   2.5s\n",
      "[CV] max_depth=15, max_features=log2, n_estimators=600 ...............\n"
     ]
    },
    {
     "name": "stdout",
     "output_type": "stream",
     "text": [
      "[CV]  max_depth=15, max_features=log2, n_estimators=600, score=0.710, total=   5.4s\n",
      "[CV] max_depth=15, max_features=log2, n_estimators=600 ...............\n",
      "[CV]  max_depth=15, max_features=log2, n_estimators=600, score=0.717, total=   5.9s\n",
      "[CV] max_depth=15, max_features=log2, n_estimators=600 ...............\n",
      "[CV]  max_depth=15, max_features=log2, n_estimators=600, score=0.705, total=   5.4s\n",
      "[CV] max_depth=15, max_features=log2, n_estimators=600 ...............\n",
      "[CV]  max_depth=15, max_features=log2, n_estimators=600, score=0.666, total=   5.4s\n",
      "[CV] max_depth=15, max_features=log2, n_estimators=600 ...............\n",
      "[CV]  max_depth=15, max_features=log2, n_estimators=600, score=0.721, total=   5.4s\n",
      "[CV] max_depth=16, max_features=auto, n_estimators=200 ...............\n",
      "[CV]  max_depth=16, max_features=auto, n_estimators=200, score=0.713, total=   2.5s\n",
      "[CV] max_depth=16, max_features=auto, n_estimators=200 ...............\n",
      "[CV]  max_depth=16, max_features=auto, n_estimators=200, score=0.704, total=   1.4s\n",
      "[CV] max_depth=16, max_features=auto, n_estimators=200 ...............\n",
      "[CV]  max_depth=16, max_features=auto, n_estimators=200, score=0.700, total=   1.9s\n",
      "[CV] max_depth=16, max_features=auto, n_estimators=200 ...............\n",
      "[CV]  max_depth=16, max_features=auto, n_estimators=200, score=0.662, total=   2.0s\n",
      "[CV] max_depth=16, max_features=auto, n_estimators=200 ...............\n",
      "[CV]  max_depth=16, max_features=auto, n_estimators=200, score=0.713, total=   1.4s\n",
      "[CV] max_depth=16, max_features=auto, n_estimators=600 ...............\n",
      "[CV]  max_depth=16, max_features=auto, n_estimators=600, score=0.713, total=   6.4s\n",
      "[CV] max_depth=16, max_features=auto, n_estimators=600 ...............\n",
      "[CV]  max_depth=16, max_features=auto, n_estimators=600, score=0.713, total=   5.6s\n",
      "[CV] max_depth=16, max_features=auto, n_estimators=600 ...............\n",
      "[CV]  max_depth=16, max_features=auto, n_estimators=600, score=0.705, total=   5.4s\n",
      "[CV] max_depth=16, max_features=auto, n_estimators=600 ...............\n",
      "[CV]  max_depth=16, max_features=auto, n_estimators=600, score=0.667, total=   5.4s\n",
      "[CV] max_depth=16, max_features=auto, n_estimators=600 ...............\n",
      "[CV]  max_depth=16, max_features=auto, n_estimators=600, score=0.713, total=   5.7s\n",
      "[CV] max_depth=16, max_features=sqrt, n_estimators=200 ...............\n",
      "[CV]  max_depth=16, max_features=sqrt, n_estimators=200, score=0.711, total=   2.2s\n",
      "[CV] max_depth=16, max_features=sqrt, n_estimators=200 ...............\n",
      "[CV]  max_depth=16, max_features=sqrt, n_estimators=200, score=0.714, total=   1.7s\n",
      "[CV] max_depth=16, max_features=sqrt, n_estimators=200 ...............\n",
      "[CV]  max_depth=16, max_features=sqrt, n_estimators=200, score=0.707, total=   2.3s\n",
      "[CV] max_depth=16, max_features=sqrt, n_estimators=200 ...............\n",
      "[CV]  max_depth=16, max_features=sqrt, n_estimators=200, score=0.669, total=   1.4s\n",
      "[CV] max_depth=16, max_features=sqrt, n_estimators=200 ...............\n",
      "[CV]  max_depth=16, max_features=sqrt, n_estimators=200, score=0.718, total=   2.1s\n",
      "[CV] max_depth=16, max_features=sqrt, n_estimators=600 ...............\n",
      "[CV]  max_depth=16, max_features=sqrt, n_estimators=600, score=0.709, total=   5.9s\n",
      "[CV] max_depth=16, max_features=sqrt, n_estimators=600 ...............\n",
      "[CV]  max_depth=16, max_features=sqrt, n_estimators=600, score=0.711, total=   5.7s\n",
      "[CV] max_depth=16, max_features=sqrt, n_estimators=600 ...............\n",
      "[CV]  max_depth=16, max_features=sqrt, n_estimators=600, score=0.705, total=   5.8s\n",
      "[CV] max_depth=16, max_features=sqrt, n_estimators=600 ...............\n",
      "[CV]  max_depth=16, max_features=sqrt, n_estimators=600, score=0.665, total=   7.0s\n",
      "[CV] max_depth=16, max_features=sqrt, n_estimators=600 ...............\n",
      "[CV]  max_depth=16, max_features=sqrt, n_estimators=600, score=0.720, total=   5.6s\n",
      "[CV] max_depth=16, max_features=log2, n_estimators=200 ...............\n",
      "[CV]  max_depth=16, max_features=log2, n_estimators=200, score=0.715, total=   3.1s\n",
      "[CV] max_depth=16, max_features=log2, n_estimators=200 ...............\n",
      "[CV]  max_depth=16, max_features=log2, n_estimators=200, score=0.711, total=   1.4s\n",
      "[CV] max_depth=16, max_features=log2, n_estimators=200 ...............\n",
      "[CV]  max_depth=16, max_features=log2, n_estimators=200, score=0.703, total=   2.6s\n",
      "[CV] max_depth=16, max_features=log2, n_estimators=200 ...............\n",
      "[CV]  max_depth=16, max_features=log2, n_estimators=200, score=0.665, total=   1.5s\n",
      "[CV] max_depth=16, max_features=log2, n_estimators=200 ...............\n",
      "[CV]  max_depth=16, max_features=log2, n_estimators=200, score=0.719, total=   2.6s\n",
      "[CV] max_depth=16, max_features=log2, n_estimators=600 ...............\n",
      "[CV]  max_depth=16, max_features=log2, n_estimators=600, score=0.716, total=   5.5s\n",
      "[CV] max_depth=16, max_features=log2, n_estimators=600 ...............\n",
      "[CV]  max_depth=16, max_features=log2, n_estimators=600, score=0.712, total=   6.0s\n",
      "[CV] max_depth=16, max_features=log2, n_estimators=600 ...............\n",
      "[CV]  max_depth=16, max_features=log2, n_estimators=600, score=0.712, total=   5.8s\n",
      "[CV] max_depth=16, max_features=log2, n_estimators=600 ...............\n",
      "[CV]  max_depth=16, max_features=log2, n_estimators=600, score=0.662, total=   6.6s\n",
      "[CV] max_depth=16, max_features=log2, n_estimators=600 ...............\n",
      "[CV]  max_depth=16, max_features=log2, n_estimators=600, score=0.719, total=   6.0s\n",
      "[CV] max_depth=17, max_features=auto, n_estimators=200 ...............\n",
      "[CV]  max_depth=17, max_features=auto, n_estimators=200, score=0.710, total=   1.4s\n",
      "[CV] max_depth=17, max_features=auto, n_estimators=200 ...............\n",
      "[CV]  max_depth=17, max_features=auto, n_estimators=200, score=0.703, total=   2.6s\n",
      "[CV] max_depth=17, max_features=auto, n_estimators=200 ...............\n",
      "[CV]  max_depth=17, max_features=auto, n_estimators=200, score=0.710, total=   1.5s\n",
      "[CV] max_depth=17, max_features=auto, n_estimators=200 ...............\n",
      "[CV]  max_depth=17, max_features=auto, n_estimators=200, score=0.667, total=   2.7s\n",
      "[CV] max_depth=17, max_features=auto, n_estimators=200 ...............\n",
      "[CV]  max_depth=17, max_features=auto, n_estimators=200, score=0.715, total=   2.0s\n",
      "[CV] max_depth=17, max_features=auto, n_estimators=600 ...............\n",
      "[CV]  max_depth=17, max_features=auto, n_estimators=600, score=0.713, total=   7.2s\n",
      "[CV] max_depth=17, max_features=auto, n_estimators=600 ...............\n",
      "[CV]  max_depth=17, max_features=auto, n_estimators=600, score=0.712, total=   5.8s\n",
      "[CV] max_depth=17, max_features=auto, n_estimators=600 ...............\n",
      "[CV]  max_depth=17, max_features=auto, n_estimators=600, score=0.705, total=   5.7s\n",
      "[CV] max_depth=17, max_features=auto, n_estimators=600 ...............\n",
      "[CV]  max_depth=17, max_features=auto, n_estimators=600, score=0.665, total=   7.4s\n",
      "[CV] max_depth=17, max_features=auto, n_estimators=600 ...............\n",
      "[CV]  max_depth=17, max_features=auto, n_estimators=600, score=0.715, total=   5.8s\n",
      "[CV] max_depth=17, max_features=sqrt, n_estimators=200 ...............\n",
      "[CV]  max_depth=17, max_features=sqrt, n_estimators=200, score=0.705, total=   2.5s\n",
      "[CV] max_depth=17, max_features=sqrt, n_estimators=200 ...............\n",
      "[CV]  max_depth=17, max_features=sqrt, n_estimators=200, score=0.708, total=   1.7s\n",
      "[CV] max_depth=17, max_features=sqrt, n_estimators=200 ...............\n",
      "[CV]  max_depth=17, max_features=sqrt, n_estimators=200, score=0.713, total=   2.5s\n",
      "[CV] max_depth=17, max_features=sqrt, n_estimators=200 ...............\n",
      "[CV]  max_depth=17, max_features=sqrt, n_estimators=200, score=0.676, total=   1.6s\n",
      "[CV] max_depth=17, max_features=sqrt, n_estimators=200 ...............\n",
      "[CV]  max_depth=17, max_features=sqrt, n_estimators=200, score=0.711, total=   2.5s\n",
      "[CV] max_depth=17, max_features=sqrt, n_estimators=600 ...............\n",
      "[CV]  max_depth=17, max_features=sqrt, n_estimators=600, score=0.712, total=   6.3s\n",
      "[CV] max_depth=17, max_features=sqrt, n_estimators=600 ...............\n",
      "[CV]  max_depth=17, max_features=sqrt, n_estimators=600, score=0.705, total=   6.3s\n",
      "[CV] max_depth=17, max_features=sqrt, n_estimators=600 ...............\n",
      "[CV]  max_depth=17, max_features=sqrt, n_estimators=600, score=0.706, total=   6.0s\n",
      "[CV] max_depth=17, max_features=sqrt, n_estimators=600 ...............\n"
     ]
    },
    {
     "name": "stdout",
     "output_type": "stream",
     "text": [
      "[CV]  max_depth=17, max_features=sqrt, n_estimators=600, score=0.671, total=   5.8s\n",
      "[CV] max_depth=17, max_features=sqrt, n_estimators=600 ...............\n",
      "[CV]  max_depth=17, max_features=sqrt, n_estimators=600, score=0.718, total=   5.5s\n",
      "[CV] max_depth=17, max_features=log2, n_estimators=200 ...............\n",
      "[CV]  max_depth=17, max_features=log2, n_estimators=200, score=0.711, total=   2.6s\n",
      "[CV] max_depth=17, max_features=log2, n_estimators=200 ...............\n",
      "[CV]  max_depth=17, max_features=log2, n_estimators=200, score=0.708, total=   1.4s\n",
      "[CV] max_depth=17, max_features=log2, n_estimators=200 ...............\n",
      "[CV]  max_depth=17, max_features=log2, n_estimators=200, score=0.704, total=   1.5s\n",
      "[CV] max_depth=17, max_features=log2, n_estimators=200 ...............\n",
      "[CV]  max_depth=17, max_features=log2, n_estimators=200, score=0.662, total=   2.6s\n",
      "[CV] max_depth=17, max_features=log2, n_estimators=200 ...............\n",
      "[CV]  max_depth=17, max_features=log2, n_estimators=200, score=0.719, total=   1.7s\n",
      "[CV] max_depth=17, max_features=log2, n_estimators=600 ...............\n",
      "[CV]  max_depth=17, max_features=log2, n_estimators=600, score=0.713, total=   7.0s\n",
      "[CV] max_depth=17, max_features=log2, n_estimators=600 ...............\n",
      "[CV]  max_depth=17, max_features=log2, n_estimators=600, score=0.710, total=   5.6s\n",
      "[CV] max_depth=17, max_features=log2, n_estimators=600 ...............\n",
      "[CV]  max_depth=17, max_features=log2, n_estimators=600, score=0.703, total=   7.4s\n",
      "[CV] max_depth=17, max_features=log2, n_estimators=600 ...............\n",
      "[CV]  max_depth=17, max_features=log2, n_estimators=600, score=0.666, total=   5.6s\n",
      "[CV] max_depth=17, max_features=log2, n_estimators=600 ...............\n",
      "[CV]  max_depth=17, max_features=log2, n_estimators=600, score=0.719, total=   6.3s\n",
      "[CV] max_depth=18, max_features=auto, n_estimators=200 ...............\n",
      "[CV]  max_depth=18, max_features=auto, n_estimators=200, score=0.711, total=   2.6s\n",
      "[CV] max_depth=18, max_features=auto, n_estimators=200 ...............\n",
      "[CV]  max_depth=18, max_features=auto, n_estimators=200, score=0.709, total=   1.7s\n",
      "[CV] max_depth=18, max_features=auto, n_estimators=200 ...............\n",
      "[CV]  max_depth=18, max_features=auto, n_estimators=200, score=0.700, total=   2.3s\n",
      "[CV] max_depth=18, max_features=auto, n_estimators=200 ...............\n",
      "[CV]  max_depth=18, max_features=auto, n_estimators=200, score=0.659, total=   1.9s\n",
      "[CV] max_depth=18, max_features=auto, n_estimators=200 ...............\n",
      "[CV]  max_depth=18, max_features=auto, n_estimators=200, score=0.715, total=   2.8s\n",
      "[CV] max_depth=18, max_features=auto, n_estimators=600 ...............\n",
      "[CV]  max_depth=18, max_features=auto, n_estimators=600, score=0.717, total=   5.9s\n",
      "[CV] max_depth=18, max_features=auto, n_estimators=600 ...............\n",
      "[CV]  max_depth=18, max_features=auto, n_estimators=600, score=0.705, total=   6.3s\n",
      "[CV] max_depth=18, max_features=auto, n_estimators=600 ...............\n",
      "[CV]  max_depth=18, max_features=auto, n_estimators=600, score=0.711, total=   6.3s\n",
      "[CV] max_depth=18, max_features=auto, n_estimators=600 ...............\n",
      "[CV]  max_depth=18, max_features=auto, n_estimators=600, score=0.672, total=   6.1s\n",
      "[CV] max_depth=18, max_features=auto, n_estimators=600 ...............\n",
      "[CV]  max_depth=18, max_features=auto, n_estimators=600, score=0.715, total=   6.7s\n",
      "[CV] max_depth=18, max_features=sqrt, n_estimators=200 ...............\n",
      "[CV]  max_depth=18, max_features=sqrt, n_estimators=200, score=0.707, total=   1.5s\n",
      "[CV] max_depth=18, max_features=sqrt, n_estimators=200 ...............\n",
      "[CV]  max_depth=18, max_features=sqrt, n_estimators=200, score=0.704, total=   2.4s\n",
      "[CV] max_depth=18, max_features=sqrt, n_estimators=200 ...............\n",
      "[CV]  max_depth=18, max_features=sqrt, n_estimators=200, score=0.704, total=   1.7s\n",
      "[CV] max_depth=18, max_features=sqrt, n_estimators=200 ...............\n",
      "[CV]  max_depth=18, max_features=sqrt, n_estimators=200, score=0.671, total=   2.4s\n",
      "[CV] max_depth=18, max_features=sqrt, n_estimators=200 ...............\n",
      "[CV]  max_depth=18, max_features=sqrt, n_estimators=200, score=0.714, total=   1.7s\n",
      "[CV] max_depth=18, max_features=sqrt, n_estimators=600 ...............\n",
      "[CV]  max_depth=18, max_features=sqrt, n_estimators=600, score=0.715, total=   6.7s\n",
      "[CV] max_depth=18, max_features=sqrt, n_estimators=600 ...............\n",
      "[CV]  max_depth=18, max_features=sqrt, n_estimators=600, score=0.703, total=   6.1s\n",
      "[CV] max_depth=18, max_features=sqrt, n_estimators=600 ...............\n",
      "[CV]  max_depth=18, max_features=sqrt, n_estimators=600, score=0.708, total=   5.6s\n",
      "[CV] max_depth=18, max_features=sqrt, n_estimators=600 ...............\n",
      "[CV]  max_depth=18, max_features=sqrt, n_estimators=600, score=0.676, total=   6.8s\n",
      "[CV] max_depth=18, max_features=sqrt, n_estimators=600 ...............\n",
      "[CV]  max_depth=18, max_features=sqrt, n_estimators=600, score=0.717, total=   5.7s\n",
      "[CV] max_depth=18, max_features=log2, n_estimators=200 ...............\n",
      "[CV]  max_depth=18, max_features=log2, n_estimators=200, score=0.717, total=   2.6s\n",
      "[CV] max_depth=18, max_features=log2, n_estimators=200 ...............\n",
      "[CV]  max_depth=18, max_features=log2, n_estimators=200, score=0.706, total=   1.6s\n",
      "[CV] max_depth=18, max_features=log2, n_estimators=200 ...............\n",
      "[CV]  max_depth=18, max_features=log2, n_estimators=200, score=0.706, total=   2.5s\n",
      "[CV] max_depth=18, max_features=log2, n_estimators=200 ...............\n",
      "[CV]  max_depth=18, max_features=log2, n_estimators=200, score=0.667, total=   1.7s\n",
      "[CV] max_depth=18, max_features=log2, n_estimators=200 ...............\n",
      "[CV]  max_depth=18, max_features=log2, n_estimators=200, score=0.711, total=   2.5s\n",
      "[CV] max_depth=18, max_features=log2, n_estimators=600 ...............\n",
      "[CV]  max_depth=18, max_features=log2, n_estimators=600, score=0.720, total=   6.3s\n",
      "[CV] max_depth=18, max_features=log2, n_estimators=600 ...............\n",
      "[CV]  max_depth=18, max_features=log2, n_estimators=600, score=0.706, total=   6.1s\n",
      "[CV] max_depth=18, max_features=log2, n_estimators=600 ...............\n",
      "[CV]  max_depth=18, max_features=log2, n_estimators=600, score=0.704, total=   5.6s\n",
      "[CV] max_depth=18, max_features=log2, n_estimators=600 ...............\n",
      "[CV]  max_depth=18, max_features=log2, n_estimators=600, score=0.669, total=   5.8s\n",
      "[CV] max_depth=18, max_features=log2, n_estimators=600 ...............\n",
      "[CV]  max_depth=18, max_features=log2, n_estimators=600, score=0.714, total=   6.4s\n",
      "[CV] max_depth=None, max_features=auto, n_estimators=200 .............\n",
      "[CV]  max_depth=None, max_features=auto, n_estimators=200, score=0.707, total=   2.2s\n",
      "[CV] max_depth=None, max_features=auto, n_estimators=200 .............\n",
      "[CV]  max_depth=None, max_features=auto, n_estimators=200, score=0.704, total=   2.5s\n",
      "[CV] max_depth=None, max_features=auto, n_estimators=200 .............\n",
      "[CV]  max_depth=None, max_features=auto, n_estimators=200, score=0.699, total=   1.7s\n",
      "[CV] max_depth=None, max_features=auto, n_estimators=200 .............\n",
      "[CV]  max_depth=None, max_features=auto, n_estimators=200, score=0.667, total=   2.4s\n",
      "[CV] max_depth=None, max_features=auto, n_estimators=200 .............\n",
      "[CV]  max_depth=None, max_features=auto, n_estimators=200, score=0.715, total=   1.9s\n",
      "[CV] max_depth=None, max_features=auto, n_estimators=600 .............\n",
      "[CV]  max_depth=None, max_features=auto, n_estimators=600, score=0.714, total=   7.2s\n",
      "[CV] max_depth=None, max_features=auto, n_estimators=600 .............\n",
      "[CV]  max_depth=None, max_features=auto, n_estimators=600, score=0.703, total=   6.6s\n",
      "[CV] max_depth=None, max_features=auto, n_estimators=600 .............\n",
      "[CV]  max_depth=None, max_features=auto, n_estimators=600, score=0.703, total=   6.0s\n",
      "[CV] max_depth=None, max_features=auto, n_estimators=600 .............\n",
      "[CV]  max_depth=None, max_features=auto, n_estimators=600, score=0.674, total=   5.9s\n",
      "[CV] max_depth=None, max_features=auto, n_estimators=600 .............\n",
      "[CV]  max_depth=None, max_features=auto, n_estimators=600, score=0.709, total=   6.8s\n",
      "[CV] max_depth=None, max_features=sqrt, n_estimators=200 .............\n",
      "[CV]  max_depth=None, max_features=sqrt, n_estimators=200, score=0.703, total=   2.2s\n",
      "[CV] max_depth=None, max_features=sqrt, n_estimators=200 .............\n"
     ]
    },
    {
     "name": "stdout",
     "output_type": "stream",
     "text": [
      "[CV]  max_depth=None, max_features=sqrt, n_estimators=200, score=0.697, total=   1.9s\n",
      "[CV] max_depth=None, max_features=sqrt, n_estimators=200 .............\n",
      "[CV]  max_depth=None, max_features=sqrt, n_estimators=200, score=0.702, total=   1.5s\n",
      "[CV] max_depth=None, max_features=sqrt, n_estimators=200 .............\n",
      "[CV]  max_depth=None, max_features=sqrt, n_estimators=200, score=0.665, total=   2.7s\n",
      "[CV] max_depth=None, max_features=sqrt, n_estimators=200 .............\n",
      "[CV]  max_depth=None, max_features=sqrt, n_estimators=200, score=0.711, total=   1.5s\n",
      "[CV] max_depth=None, max_features=sqrt, n_estimators=600 .............\n",
      "[CV]  max_depth=None, max_features=sqrt, n_estimators=600, score=0.713, total=   7.5s\n",
      "[CV] max_depth=None, max_features=sqrt, n_estimators=600 .............\n",
      "[CV]  max_depth=None, max_features=sqrt, n_estimators=600, score=0.705, total=   5.7s\n",
      "[CV] max_depth=None, max_features=sqrt, n_estimators=600 .............\n",
      "[CV]  max_depth=None, max_features=sqrt, n_estimators=600, score=0.707, total=   6.5s\n",
      "[CV] max_depth=None, max_features=sqrt, n_estimators=600 .............\n",
      "[CV]  max_depth=None, max_features=sqrt, n_estimators=600, score=0.678, total=   6.6s\n",
      "[CV] max_depth=None, max_features=sqrt, n_estimators=600 .............\n",
      "[CV]  max_depth=None, max_features=sqrt, n_estimators=600, score=0.719, total=   5.9s\n",
      "[CV] max_depth=None, max_features=log2, n_estimators=200 .............\n",
      "[CV]  max_depth=None, max_features=log2, n_estimators=200, score=0.706, total=   2.7s\n",
      "[CV] max_depth=None, max_features=log2, n_estimators=200 .............\n",
      "[CV]  max_depth=None, max_features=log2, n_estimators=200, score=0.706, total=   1.7s\n",
      "[CV] max_depth=None, max_features=log2, n_estimators=200 .............\n",
      "[CV]  max_depth=None, max_features=log2, n_estimators=200, score=0.709, total=   2.5s\n",
      "[CV] max_depth=None, max_features=log2, n_estimators=200 .............\n",
      "[CV]  max_depth=None, max_features=log2, n_estimators=200, score=0.667, total=   1.5s\n",
      "[CV] max_depth=None, max_features=log2, n_estimators=200 .............\n",
      "[CV]  max_depth=None, max_features=log2, n_estimators=200, score=0.713, total=   2.3s\n",
      "[CV] max_depth=None, max_features=log2, n_estimators=600 .............\n",
      "[CV]  max_depth=None, max_features=log2, n_estimators=600, score=0.713, total=   6.6s\n",
      "[CV] max_depth=None, max_features=log2, n_estimators=600 .............\n",
      "[CV]  max_depth=None, max_features=log2, n_estimators=600, score=0.705, total=   7.1s\n",
      "[CV] max_depth=None, max_features=log2, n_estimators=600 .............\n",
      "[CV]  max_depth=None, max_features=log2, n_estimators=600, score=0.706, total=   6.3s\n",
      "[CV] max_depth=None, max_features=log2, n_estimators=600 .............\n",
      "[CV]  max_depth=None, max_features=log2, n_estimators=600, score=0.667, total=   6.2s\n",
      "[CV] max_depth=None, max_features=log2, n_estimators=600 .............\n",
      "[CV]  max_depth=None, max_features=log2, n_estimators=600, score=0.719, total=   7.0s\n"
     ]
    },
    {
     "name": "stderr",
     "output_type": "stream",
     "text": [
      "[Parallel(n_jobs=1)]: Done 180 out of 180 | elapsed: 11.9min finished\n"
     ]
    },
    {
     "data": {
      "text/plain": [
       "GridSearchCV(cv=5, estimator=RandomForestClassifier(n_estimators=200),\n",
       "             param_grid={'max_depth': [14, 15, 16, 17, 18, None],\n",
       "                         'max_features': ['auto', 'sqrt', 'log2'],\n",
       "                         'n_estimators': [200, 600]},\n",
       "             verbose=3)"
      ]
     },
     "execution_count": 51,
     "metadata": {},
     "output_type": "execute_result"
    }
   ],
   "source": [
    "# Train the model with GridSearch\n",
    "grid.fit(X_train, y_train)"
   ]
  },
  {
   "cell_type": "code",
   "execution_count": 52,
   "metadata": {},
   "outputs": [
    {
     "name": "stdout",
     "output_type": "stream",
     "text": [
      "{'max_depth': None, 'max_features': 'sqrt', 'n_estimators': 600}\n",
      "0.7045561385252402\n"
     ]
    }
   ],
   "source": [
    "print(grid.best_params_)\n",
    "print(grid.best_score_)"
   ]
  },
  {
   "cell_type": "code",
   "execution_count": 53,
   "metadata": {},
   "outputs": [
    {
     "data": {
      "text/plain": [
       "array(['CONFIRMED', 'FALSE POSITIVE', 'CONFIRMED', ..., 'CANDIDATE',\n",
       "       'FALSE POSITIVE', 'FALSE POSITIVE'], dtype=object)"
      ]
     },
     "execution_count": 53,
     "metadata": {},
     "output_type": "execute_result"
    }
   ],
   "source": [
    "# Make predictions with the hypertuned model\n",
    "predictions = grid.predict(X_test)\n",
    "predictions"
   ]
  },
  {
   "cell_type": "code",
   "execution_count": 54,
   "metadata": {},
   "outputs": [
    {
     "data": {
      "text/plain": [
       "4982    FALSE POSITIVE\n",
       "4866         CANDIDATE\n",
       "2934    FALSE POSITIVE\n",
       "5007    FALSE POSITIVE\n",
       "3869    FALSE POSITIVE\n",
       "             ...      \n",
       "4006         CANDIDATE\n",
       "6985         CANDIDATE\n",
       "1468         CONFIRMED\n",
       "5138         CONFIRMED\n",
       "2770         CONFIRMED\n",
       "Name: koi_disposition, Length: 1748, dtype: object"
      ]
     },
     "execution_count": 54,
     "metadata": {},
     "output_type": "execute_result"
    }
   ],
   "source": [
    "y_test"
   ]
  },
  {
   "cell_type": "code",
   "execution_count": 55,
   "metadata": {},
   "outputs": [
    {
     "name": "stdout",
     "output_type": "stream",
     "text": [
      "                precision    recall  f1-score   support\n",
      "\n",
      "     CANDIDATE       0.49      0.43      0.45       411\n",
      "     CONFIRMED       0.67      0.70      0.68       484\n",
      "FALSE POSITIVE       0.79      0.82      0.80       853\n",
      "\n",
      "      accuracy                           0.69      1748\n",
      "     macro avg       0.65      0.65      0.65      1748\n",
      "  weighted avg       0.68      0.69      0.69      1748\n",
      "\n"
     ]
    }
   ],
   "source": [
    "# Calculate classification report\n",
    "from sklearn.metrics import classification_report\n",
    "print(classification_report(y_test, predictions))"
   ]
  },
  {
   "cell_type": "markdown",
   "metadata": {},
   "source": [
    "# Save the Model"
   ]
  },
  {
   "cell_type": "code",
   "execution_count": 43,
   "metadata": {},
   "outputs": [
    {
     "data": {
      "text/plain": [
       "['logisticregression.sav']"
      ]
     },
     "execution_count": 43,
     "metadata": {},
     "output_type": "execute_result"
    }
   ],
   "source": [
    "# save your model by updating \"your_name\" with your name\n",
    "# and \"your_model\" with your model variable\n",
    "# be sure to turn this in to BCS\n",
    "# if joblib fails to import, try running the command to install in terminal/git-bash\n",
    "import joblib\n",
    "filename = 'decisiontree.sav'\n",
    "joblib.dump(rf, filename)"
   ]
  },
  {
   "cell_type": "code",
   "execution_count": null,
   "metadata": {},
   "outputs": [],
   "source": []
  }
 ],
 "metadata": {
  "kernel_info": {
   "name": "dev"
  },
  "kernelspec": {
   "display_name": "advpythonnew",
   "language": "python",
   "name": "advpythonnew"
  },
  "language_info": {
   "codemirror_mode": {
    "name": "ipython",
    "version": 3
   },
   "file_extension": ".py",
   "mimetype": "text/x-python",
   "name": "python",
   "nbconvert_exporter": "python",
   "pygments_lexer": "ipython3",
   "version": "3.6.12"
  },
  "nteract": {
   "version": "0.12.3"
  }
 },
 "nbformat": 4,
 "nbformat_minor": 2
}
